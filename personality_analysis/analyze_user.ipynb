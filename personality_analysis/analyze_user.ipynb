{
 "metadata": {
  "language_info": {
   "codemirror_mode": {
    "name": "ipython",
    "version": 3
   },
   "file_extension": ".py",
   "mimetype": "text/x-python",
   "name": "python",
   "nbconvert_exporter": "python",
   "pygments_lexer": "ipython3",
   "version": "3.7.10"
  },
  "orig_nbformat": 2,
  "kernelspec": {
   "name": "python3710jvsc74a57bd06a1352079606d11c621885201470cae74579ac815f1080e8510dab6caa192ea7",
   "display_name": "Python 3.7.10 64-bit ('base': conda)"
  }
 },
 "nbformat": 4,
 "nbformat_minor": 2,
 "cells": [
  {
   "cell_type": "code",
   "execution_count": 28,
   "metadata": {},
   "outputs": [],
   "source": [
    "import pandas as pd\n",
    "from pathlib import Path\n",
    "import json\n",
    "import pendulum\n",
    "import numpy as np"
   ]
  },
  {
   "cell_type": "code",
   "execution_count": 7,
   "metadata": {},
   "outputs": [],
   "source": [
    "in_dir = \"/Users/kay/Papers/论文合作/于孟利/weibo_data_analysis-20210210/weibo_data_json\""
   ]
  },
  {
   "cell_type": "code",
   "execution_count": 37,
   "metadata": {
    "tags": []
   },
   "outputs": [
    {
     "output_type": "stream",
     "name": "stdout",
     "text": [
      "/Users/kay/Papers/论文合作/于孟利/weibo_data_analysis-20210210/weibo_data_json/2982254865.json\n[18, 60, 93, 163]\n[39, 44, 34, 38, 58, 48, 73]\n[ 4825080   147900   111660   353580       60  4175280  1260540   710580\n  1633620  2339220  2075760   524640   176400    68520   442380  6794400\n   837840   304140   876540  2229480  1003380    74280     1020   492360\n    97200   659760    23040  2957040   263880   682620  1921020   469560\n   796020   510600   783840   328500  1476780    14520   766140   766620\n    88500   267360   190800  1448340   261900    68340   465180   227520\n    35040   518640    58680    30060   317340   172320    95100      720\n    81060     9180    75000   180660   262380   155520   276240    72420\n   117480    61680   283860    55800      900     1620    36360    81240\n     4320    55080     6180      240   171240    15120     3240    46080\n     3000    18060      540     8580    59160    10500    10140   107820\n    40320    10740   261240    20640   247440    30720    74760      780\n   486120   182640   597540  1032960   300000   392040      120   255600\n   114000   268740   787320  1521000    60060   787500    95640    21420\n   323640   173400   383940    15960   218580   259680   497760   464460\n   450240   331620     3540   232200   205800     1260    30300      600\n    12480   125040     1320    38220    61920      420    22620   139920\n    33660   828600   208920    54540   897660   187980   855780  1508640\n   179760       60   205320   192480   456600    75420   139920    49260\n   141960    79020   101460   248820   259980   180480 11940840  2378220\n  1503120   689100   653640   473760   570360   779880   706620   501180\n  1564620      300   118320   327300   593400   418380  1660560   170220\n    77160  1036140  2895780    47760  1300980   113100   335460   318660\n   345240   620280   444000   658860   192600   323820   128700   661560\n      900   175320   165660   356040   536520    56580    43200    82920\n   383460   527880   806580   422460  6813180  4058580  3230820   223140\n  1503180   319260   329580   286800   662520    96720   512760   169860\n   554940    60540   351120   158340   260220   258600    92760   360480\n   844800   677160   133200   156000   169380       60  1107480   595260\n      240   988260  1109940   125940  1772880  1449180   435720 13251900\n     6000  9230100   448980  1277040    66360    10320    94080    88440\n     7080    12420  1196880  8898780  1303500  4426140 13433640   692100\n 10784160  6485760  1206240  2504580      120    91140       60  1642140\n       60  1285200       60       60        0       60      360      300\n  3558120  1027380  1681620      360  1607340  1133520   760680   965100\n      240      600   682440      300     1140       60        0   421860\n   175140      540    39300       60      300   216900  2596080  1737360\n   176640   108060      180   136380   517380      180      180    99480\n        0     2580       60        0      240   161340      960     5580\n      420   175680   361440        0   356280      120       60     1260\n       60      300        0     3240    43320      300    78600       60\n      240       60   263700       60   793140]\n(706538.5585585586, 1723792.2208285176)\n"
     ]
    }
   ],
   "source": [
    "# 时间分析\n",
    "\n",
    "for in_name in Path(in_dir).rglob(\"*.json\"):\n",
    "    print(in_name)\n",
    "    d = json.load(open(in_name))\n",
    "    weibos = d[\"weibo\"]\n",
    "    # for w in weibos:\n",
    "        # print(w[\"publish_time\"])\n",
    "    time_list = [pendulum.parse(w[\"publish_time\"]) for w in weibos]\n",
    "    print(day_night(time_list))\n",
    "    print(weeks(time_list))\n",
    "    print(time_interval(time_list))\n",
    "    break"
   ]
  },
  {
   "cell_type": "code",
   "execution_count": 25,
   "metadata": {},
   "outputs": [],
   "source": [
    "def day_night(time_list):\n",
    "    '''\n",
    "    发微博的时间序列转化为4个时间段的统计\n",
    "    :param in_name:\n",
    "    :param out_name:\n",
    "    :return:\n",
    "    '''\n",
    "    cnt = [0] * 4\n",
    "    for t in time_list:\n",
    "        hour = t.hour\n",
    "        # print(hour)\n",
    "        # 分为四个时间段\n",
    "        cnt[int(int(hour) / 6)] += 1\n",
    "        # 分为24小时\n",
    "        # cnt[int(hour)] += 1\n",
    "    return cnt\n",
    "\n",
    "\n",
    "def weeks(time_list):\n",
    "    '''\n",
    "    发微博的时间序列转化为7个时间段的统计\n",
    "    :param in_name:\n",
    "    :param out_name:\n",
    "    :return:\n",
    "    '''\n",
    "    cnt = [0] * 7\n",
    "    for t in time_list:\n",
    "        weekday = t.weekday()\n",
    "        cnt[int(weekday)] += 1\n",
    "    return cnt"
   ]
  },
  {
   "cell_type": "code",
   "execution_count": 36,
   "metadata": {},
   "outputs": [],
   "source": [
    "def time_interval(time_list):\n",
    "    interval = []\n",
    "    for i in np.arange(1, len(time_list)):\n",
    "        t2 = time_list[i-1]\n",
    "        t1 = time_list[i]\n",
    "        interval.append((t2 - t1).days * 86400 + (t2 - t1).seconds)\n",
    "    # return interval\n",
    "    interval = np.array(interval)\n",
    "    print(interval)\n",
    "    return interval.mean(), interval.std()\n",
    "    \n",
    "\n",
    "def time_interval_mean_std(in_name):\n",
    "    # 平均每个人\n",
    "    total_interval_mean = 0\n",
    "    total_interval_std = 0\n",
    "    lines = 0\n",
    "    for line in open(in_name).readlines():\n",
    "        lines += 1\n",
    "        interval = np.array([float(inter) for inter in line[11: ].strip().split(' ') if float(inter) < 86400])\n",
    "        # interval = np.array([float(inter) for inter in line[11: ].strip().split(' ')])\n",
    "        total_interval_mean += interval.mean()\n",
    "        total_interval_std += interval.std()\n",
    "    print('-- 期望 --')\n",
    "    print(total_interval_mean / lines / 3600)\n",
    "    print('-- 标准差 --')\n",
    "    print(total_interval_std / lines / 3600)"
   ]
  },
  {
   "cell_type": "code",
   "execution_count": null,
   "metadata": {},
   "outputs": [],
   "source": []
  }
 ]
}