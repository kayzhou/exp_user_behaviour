{
 "metadata": {
  "language_info": {
   "codemirror_mode": {
    "name": "ipython",
    "version": 3
   },
   "file_extension": ".py",
   "mimetype": "text/x-python",
   "name": "python",
   "nbconvert_exporter": "python",
   "pygments_lexer": "ipython3",
   "version": "3.8.10"
  },
  "orig_nbformat": 2,
  "kernelspec": {
   "name": "python3810jvsc74a57bd06a1352079606d11c621885201470cae74579ac815f1080e8510dab6caa192ea7",
   "display_name": "Python 3.7.10 64-bit ('base': conda)"
  }
 },
 "nbformat": 4,
 "nbformat_minor": 2,
 "cells": [
  {
   "cell_type": "code",
   "execution_count": 4,
   "metadata": {},
   "outputs": [],
   "source": [
    "import pandas as pd\n",
    "from pathlib import Path\n",
    "import json\n",
    "import pendulum\n",
    "import numpy as np"
   ]
  },
  {
   "cell_type": "code",
   "execution_count": 6,
   "metadata": {},
   "outputs": [],
   "source": [
    "in_dir = \"/Users/kay/Papers/论文合作/于孟利/weibo_data_analysis-20210210/weibo_data_json\""
   ]
  },
  {
   "cell_type": "code",
   "execution_count": 88,
   "metadata": {},
   "outputs": [],
   "source": [
    "def day_night(time_list):\n",
    "    '''\n",
    "    发微博的时间序列转化为4个时间段的统计\n",
    "    :param in_name:\n",
    "    :param out_name:\n",
    "    :return:\n",
    "    '''\n",
    "    cnt = [0] * 24\n",
    "    for t in time_list:\n",
    "        hour = t.hour\n",
    "        # print(hour)\n",
    "        # 分为四个时间段\n",
    "        # cnt[int(int(hour) / 6)] += 1\n",
    "        # 分为24小时\n",
    "        cnt[int(hour)] += 1\n",
    "    return cnt\n",
    "\n",
    "\n",
    "def weeks(time_list):\n",
    "    '''\n",
    "    发微博的时间序列转化为7个时间段的统计\n",
    "    :param in_name:\n",
    "    :param out_name:\n",
    "    :return:\n",
    "    '''\n",
    "    cnt = [0] * 7\n",
    "    for t in time_list:\n",
    "        weekday = t.weekday()\n",
    "        cnt[int(weekday)] += 1\n",
    "    return cnt\n",
    "\n",
    "\n",
    "def time_interval(time_list):\n",
    "    interval = []\n",
    "    for i in np.arange(1, len(time_list)):\n",
    "        t2 = time_list[i-1]\n",
    "        t1 = time_list[i]\n",
    "        _inter = (t2 - t1).total_seconds()\n",
    "        if _inter < 86400 * 7:\n",
    "            interval.append(_inter / 3600)\n",
    "    # return interval\n",
    "    interval = np.array(interval)\n",
    "    # print(interval)\n",
    "    return interval.mean(), interval.std()\n",
    "\n",
    "\n",
    "def life_length(time_list):\n",
    "    return int((max(time_list) - min(time_list)).total_seconds() / 3600 / 24) + 1"
   ]
  },
  {
   "cell_type": "code",
   "execution_count": 33,
   "metadata": {
    "tags": []
   },
   "outputs": [
    {
     "output_type": "execute_result",
     "data": {
      "text/plain": [
       "                  NT      NFEE      NEER  NT / NFEE  NT / NFER  NEEE / NFER\n",
       "userID_num                                                                 \n",
       "2982254865  6.063785  5.093750  5.407172   2.638037   1.928251     0.730942\n",
       "3943065337  9.169727  6.356108  7.021084  16.670139   8.573214     0.514286\n",
       "3968712237  5.743003  5.860786  5.176150   0.888889   1.762712     1.983051\n",
       "5013416876  6.495266  5.852202  5.402677   1.902299   2.981982     1.567568\n",
       "5230736039  4.976734  5.347108  4.820282   0.690476   1.169355     1.693548\n",
       "...              ...       ...       ...        ...        ...          ...\n",
       "1278570913  5.897154  5.293305  4.094345   1.829146   6.066667     3.316667\n",
       "5236316239  7.216709  5.517453  4.189655   5.469880  20.636364     3.772727\n",
       "2678428523  6.075346  4.304065  5.676754   5.878378   1.489726     0.253425\n",
       "3078158207  5.669881  5.552960  5.468060   1.124031   1.223629     1.088608\n",
       "5568449554  2.772589  4.248495  3.044522   0.228571   0.761905     3.333333\n",
       "\n",
       "[459 rows x 6 columns]"
      ],
      "text/html": "<div>\n<style scoped>\n    .dataframe tbody tr th:only-of-type {\n        vertical-align: middle;\n    }\n\n    .dataframe tbody tr th {\n        vertical-align: top;\n    }\n\n    .dataframe thead th {\n        text-align: right;\n    }\n</style>\n<table border=\"1\" class=\"dataframe\">\n  <thead>\n    <tr style=\"text-align: right;\">\n      <th></th>\n      <th>NT</th>\n      <th>NFEE</th>\n      <th>NEER</th>\n      <th>NT / NFEE</th>\n      <th>NT / NFER</th>\n      <th>NEEE / NFER</th>\n    </tr>\n    <tr>\n      <th>userID_num</th>\n      <th></th>\n      <th></th>\n      <th></th>\n      <th></th>\n      <th></th>\n      <th></th>\n    </tr>\n  </thead>\n  <tbody>\n    <tr>\n      <th>2982254865</th>\n      <td>6.063785</td>\n      <td>5.093750</td>\n      <td>5.407172</td>\n      <td>2.638037</td>\n      <td>1.928251</td>\n      <td>0.730942</td>\n    </tr>\n    <tr>\n      <th>3943065337</th>\n      <td>9.169727</td>\n      <td>6.356108</td>\n      <td>7.021084</td>\n      <td>16.670139</td>\n      <td>8.573214</td>\n      <td>0.514286</td>\n    </tr>\n    <tr>\n      <th>3968712237</th>\n      <td>5.743003</td>\n      <td>5.860786</td>\n      <td>5.176150</td>\n      <td>0.888889</td>\n      <td>1.762712</td>\n      <td>1.983051</td>\n    </tr>\n    <tr>\n      <th>5013416876</th>\n      <td>6.495266</td>\n      <td>5.852202</td>\n      <td>5.402677</td>\n      <td>1.902299</td>\n      <td>2.981982</td>\n      <td>1.567568</td>\n    </tr>\n    <tr>\n      <th>5230736039</th>\n      <td>4.976734</td>\n      <td>5.347108</td>\n      <td>4.820282</td>\n      <td>0.690476</td>\n      <td>1.169355</td>\n      <td>1.693548</td>\n    </tr>\n    <tr>\n      <th>...</th>\n      <td>...</td>\n      <td>...</td>\n      <td>...</td>\n      <td>...</td>\n      <td>...</td>\n      <td>...</td>\n    </tr>\n    <tr>\n      <th>1278570913</th>\n      <td>5.897154</td>\n      <td>5.293305</td>\n      <td>4.094345</td>\n      <td>1.829146</td>\n      <td>6.066667</td>\n      <td>3.316667</td>\n    </tr>\n    <tr>\n      <th>5236316239</th>\n      <td>7.216709</td>\n      <td>5.517453</td>\n      <td>4.189655</td>\n      <td>5.469880</td>\n      <td>20.636364</td>\n      <td>3.772727</td>\n    </tr>\n    <tr>\n      <th>2678428523</th>\n      <td>6.075346</td>\n      <td>4.304065</td>\n      <td>5.676754</td>\n      <td>5.878378</td>\n      <td>1.489726</td>\n      <td>0.253425</td>\n    </tr>\n    <tr>\n      <th>3078158207</th>\n      <td>5.669881</td>\n      <td>5.552960</td>\n      <td>5.468060</td>\n      <td>1.124031</td>\n      <td>1.223629</td>\n      <td>1.088608</td>\n    </tr>\n    <tr>\n      <th>5568449554</th>\n      <td>2.772589</td>\n      <td>4.248495</td>\n      <td>3.044522</td>\n      <td>0.228571</td>\n      <td>0.761905</td>\n      <td>3.333333</td>\n    </tr>\n  </tbody>\n</table>\n<p>459 rows × 6 columns</p>\n</div>"
     },
     "metadata": {},
     "execution_count": 33
    }
   ],
   "source": [
    "# 时间分析\n",
    "\n",
    "'''\n",
    "Basic features. Basic features are selected to reﬂect the user’s demographics, preliminary statuses and elementary interactions on social media, including gender, tweeting patterns and privacy settings. Speciﬁcally, tweeting patterns contain log(AUW + 1) (where AUW is the age of a user on Weibo in units of days), log(NT + 1) (where NT is the total number of tweets the user posted), log(NT/(AUW + 1)) (the frequency of posting), log(NFER + 1) (where NFER is deﬁned as the number of the user’s followers), log(NFEE + 1) (where NFEE denotes the number of the user’s followees), NT/(NFER + 1), and NT/(NFEE + 1). With respect to the privacy settings, corresponding binary features indicate whether a user allows comments from others, whether the user allows private messages sent from others and whether the user allows Weibo to track their real-time location. In addition, we consider the length of self-description as a feature.\n",
    "'''\n",
    "users_features = []\n",
    "\n",
    "for in_name in Path(in_dir).rglob(\"*.json\"):\n",
    "    # print(in_name)\n",
    "    d = json.load(open(in_name))\n",
    "    user = d[\"user\"]\n",
    "    u = {\n",
    "        \"userID_num\": user[\"id\"],\n",
    "        \"NT\": np.log(user[\"weibo_num\"] + 1),\n",
    "        \"NFEE\": np.log(user[\"following\"] + 1),\n",
    "        \"NEER\": np.log(user[\"followers\"] + 1),\n",
    "        \"NT / NFEE\": (user[\"weibo_num\"] + 1) / (user[\"following\"] + 1),\n",
    "        \"NT / NFER\": (user[\"weibo_num\"] + 1) / (user[\"followers\"] + 1),\n",
    "        \"NEEE / NFER\": (user[\"following\"] + 1) / (user[\"followers\"] + 1),\n",
    "    }\n",
    "    users_features.append(u)\n",
    "    # print(user)\n",
    "\n",
    "len(users_features)\n",
    "\n",
    "df = pd.DataFrame(users_features).set_index(\"userID_num\")\n",
    "df.to_csv(\"data/MengLi_users_Basic_features.csv\", float_format=\"%.4f\")\n",
    "df\n"
   ]
  },
  {
   "cell_type": "code",
   "execution_count": null,
   "metadata": {},
   "outputs": [],
   "source": [
    "df = pd.DataFrame(users_features).set_index(\"uid\")\n",
    "df.to_csv(\"data/MengLi_users_Time_features.csv\", float_format=\"%.4f\")"
   ]
  },
  {
   "cell_type": "code",
   "execution_count": 28,
   "metadata": {},
   "outputs": [],
   "source": [
    "survey_data = pd.read_excel(\"/Users/kay/Papers/论文合作/于孟利/weibo_data_analysis-20210210/456_ID_data.xlsx\")"
   ]
  },
  {
   "cell_type": "code",
   "execution_count": 29,
   "metadata": {},
   "outputs": [],
   "source": [
    "survey_data = survey_data.set_index(\"userID_num\")"
   ]
  },
  {
   "cell_type": "code",
   "execution_count": 17,
   "metadata": {},
   "outputs": [
    {
     "output_type": "error",
     "ename": "NameError",
     "evalue": "name 'df' is not defined",
     "traceback": [
      "\u001b[0;31m---------------------------------------------------------------------------\u001b[0m",
      "\u001b[0;31mNameError\u001b[0m                                 Traceback (most recent call last)",
      "\u001b[0;32m<ipython-input-17-08b1a8501ba9>\u001b[0m in \u001b[0;36m<module>\u001b[0;34m\u001b[0m\n\u001b[0;32m----> 1\u001b[0;31m \u001b[0msurvey_data\u001b[0m\u001b[0;34m.\u001b[0m\u001b[0mjoin\u001b[0m\u001b[0;34m(\u001b[0m\u001b[0mdf\u001b[0m\u001b[0;34m)\u001b[0m\u001b[0;34m\u001b[0m\u001b[0;34m\u001b[0m\u001b[0m\n\u001b[0m",
      "\u001b[0;31mNameError\u001b[0m: name 'df' is not defined"
     ]
    }
   ],
   "source": [
    "survey_data.join(df)"
   ]
  },
  {
   "cell_type": "code",
   "execution_count": 30,
   "metadata": {},
   "outputs": [
    {
     "output_type": "execute_result",
     "data": {
      "text/plain": [
       "     userID_num      NT    NFEE    NEER  NEEE / NFER\n",
       "0    2982254865  6.0638  5.0938  5.4072      -0.3134\n",
       "1    3943065337  9.1697  6.3561  7.0211      -0.6650\n",
       "2    3968712237  5.7430  5.8608  5.1761       0.6846\n",
       "3    5013416876  6.4953  5.8522  5.4027       0.4495\n",
       "4    5230736039  4.9767  5.3471  4.8203       0.5268\n",
       "..          ...     ...     ...     ...          ...\n",
       "454  1278570913  5.8972  5.2933  4.0943       1.1990\n",
       "455  5236316239  7.2167  5.5175  4.1897       1.3278\n",
       "456  2678428523  6.0753  4.3041  5.6768      -1.3727\n",
       "457  3078158207  5.6699  5.5530  5.4681       0.0849\n",
       "458  5568449554  2.7726  4.2485  3.0445       1.2040\n",
       "\n",
       "[459 rows x 5 columns]"
      ],
      "text/html": "<div>\n<style scoped>\n    .dataframe tbody tr th:only-of-type {\n        vertical-align: middle;\n    }\n\n    .dataframe tbody tr th {\n        vertical-align: top;\n    }\n\n    .dataframe thead th {\n        text-align: right;\n    }\n</style>\n<table border=\"1\" class=\"dataframe\">\n  <thead>\n    <tr style=\"text-align: right;\">\n      <th></th>\n      <th>userID_num</th>\n      <th>NT</th>\n      <th>NFEE</th>\n      <th>NEER</th>\n      <th>NEEE / NFER</th>\n    </tr>\n  </thead>\n  <tbody>\n    <tr>\n      <th>0</th>\n      <td>2982254865</td>\n      <td>6.0638</td>\n      <td>5.0938</td>\n      <td>5.4072</td>\n      <td>-0.3134</td>\n    </tr>\n    <tr>\n      <th>1</th>\n      <td>3943065337</td>\n      <td>9.1697</td>\n      <td>6.3561</td>\n      <td>7.0211</td>\n      <td>-0.6650</td>\n    </tr>\n    <tr>\n      <th>2</th>\n      <td>3968712237</td>\n      <td>5.7430</td>\n      <td>5.8608</td>\n      <td>5.1761</td>\n      <td>0.6846</td>\n    </tr>\n    <tr>\n      <th>3</th>\n      <td>5013416876</td>\n      <td>6.4953</td>\n      <td>5.8522</td>\n      <td>5.4027</td>\n      <td>0.4495</td>\n    </tr>\n    <tr>\n      <th>4</th>\n      <td>5230736039</td>\n      <td>4.9767</td>\n      <td>5.3471</td>\n      <td>4.8203</td>\n      <td>0.5268</td>\n    </tr>\n    <tr>\n      <th>...</th>\n      <td>...</td>\n      <td>...</td>\n      <td>...</td>\n      <td>...</td>\n      <td>...</td>\n    </tr>\n    <tr>\n      <th>454</th>\n      <td>1278570913</td>\n      <td>5.8972</td>\n      <td>5.2933</td>\n      <td>4.0943</td>\n      <td>1.1990</td>\n    </tr>\n    <tr>\n      <th>455</th>\n      <td>5236316239</td>\n      <td>7.2167</td>\n      <td>5.5175</td>\n      <td>4.1897</td>\n      <td>1.3278</td>\n    </tr>\n    <tr>\n      <th>456</th>\n      <td>2678428523</td>\n      <td>6.0753</td>\n      <td>4.3041</td>\n      <td>5.6768</td>\n      <td>-1.3727</td>\n    </tr>\n    <tr>\n      <th>457</th>\n      <td>3078158207</td>\n      <td>5.6699</td>\n      <td>5.5530</td>\n      <td>5.4681</td>\n      <td>0.0849</td>\n    </tr>\n    <tr>\n      <th>458</th>\n      <td>5568449554</td>\n      <td>2.7726</td>\n      <td>4.2485</td>\n      <td>3.0445</td>\n      <td>1.2040</td>\n    </tr>\n  </tbody>\n</table>\n<p>459 rows × 5 columns</p>\n</div>"
     },
     "metadata": {},
     "execution_count": 30
    }
   ],
   "source": [
    "basic_features = pd.read_csv(\"data/MengLi_users_Bas_features.csv\")\n",
    "basic_features"
   ]
  },
  {
   "cell_type": "code",
   "execution_count": 31,
   "metadata": {},
   "outputs": [
    {
     "output_type": "execute_result",
     "data": {
      "text/plain": [
       "             num               提交答卷时间   所用时间     nickname  \\\n",
       "userID_num                                                  \n",
       "5822697591    10  2019/10/20 16:34:17   856秒     满天小xingx   \n",
       "5866763968    18  2019/10/20 16:42:25   883秒        不要放蘑菇   \n",
       "5311953749    28  2019/10/20 16:49:03  1440秒     彭老师不爱留作业   \n",
       "2366180120    31  2019/10/20 16:51:01  1024秒  cryptobiote   \n",
       "2769435005    32  2019/10/20 16:51:13  1090秒         不是很紧   \n",
       "...          ...                  ...    ...          ...   \n",
       "2139304270  1450  2019/11/15 11:32:33   929秒     _怪兽回收处处长   \n",
       "1822574395  1454  2019/11/15 11:48:23  1235秒          夷歆雯   \n",
       "6249948493  1461  2019/11/16 14:54:01  1002秒        ·松栗奶油   \n",
       "6069038567  1465  2019/11/17 14:58:06  1446秒     玺欢你andme   \n",
       "5162445666  1466  2019/11/18 11:02:06   739秒      你想次炸小鸡吖   \n",
       "\n",
       "                                   userURL        userID  sex  age  Born  专业  \\\n",
       "userID_num                                                                     \n",
       "5822697591  https://weibo.com/u/5822697591  u/5822697591    2   23  1996   4   \n",
       "5866763968  https://weibo.com/u/5866763968  u/5866763968    1   20  1999   4   \n",
       "5311953749  https://weibo.com/u/5311953749  u/5311953749    1   24  1995   4   \n",
       "2366180120  https://weibo.com/u/2366180120  u/2366180120    1   25  1994   1   \n",
       "2769435005  https://weibo.com/u/2769435005  u/2769435005    1   22  1997   1   \n",
       "...                                    ...           ...  ...  ...   ...  ..   \n",
       "2139304270  https://weibo.com/u/2139304270  u/2139304270    1   21  1998   2   \n",
       "1822574395  https://weibo.com/u/1822574395  u/1822574395    2   21  1998   3   \n",
       "6249948493  https://weibo.com/u/6249948493  u/6249948493    2   20  1999   4   \n",
       "6069038567  https://weibo.com/u/6069038567  u/6069038567    2   22  1997   4   \n",
       "5162445666  https://weibo.com/u/5162445666  u/5162445666    2   22  1997   4   \n",
       "\n",
       "            ...     高兴     低落     恐惧  是否有情绪  微博数量  userID_num  NT  NFEE  NEER  \\\n",
       "userID_num  ...                                                                 \n",
       "5822697591  ...  0.749  0.097  0.018      1   549         NaN NaN   NaN   NaN   \n",
       "5866763968  ...  0.583  0.000  0.250      1    12         NaN NaN   NaN   NaN   \n",
       "5311953749  ...  0.799  0.058  0.018      1   622         NaN NaN   NaN   NaN   \n",
       "2366180120  ...  0.770  0.053  0.026      1   152         NaN NaN   NaN   NaN   \n",
       "2769435005  ...  0.329  0.268  0.122      1    82         NaN NaN   NaN   NaN   \n",
       "...         ...    ...    ...    ...    ...   ...         ...  ..   ...   ...   \n",
       "2139304270  ...  0.643  0.107  0.000      1    28         NaN NaN   NaN   NaN   \n",
       "1822574395  ...  0.638  0.188  0.025      1  1261         NaN NaN   NaN   NaN   \n",
       "6249948493  ...  0.636  0.091  0.000      1    11         NaN NaN   NaN   NaN   \n",
       "6069038567  ...  0.646  0.020  0.000      1   147         NaN NaN   NaN   NaN   \n",
       "5162445666  ...  0.704  0.106  0.014      1   425         NaN NaN   NaN   NaN   \n",
       "\n",
       "            NEEE / NFER  \n",
       "userID_num               \n",
       "5822697591          NaN  \n",
       "5866763968          NaN  \n",
       "5311953749          NaN  \n",
       "2366180120          NaN  \n",
       "2769435005          NaN  \n",
       "...                 ...  \n",
       "2139304270          NaN  \n",
       "1822574395          NaN  \n",
       "6249948493          NaN  \n",
       "6069038567          NaN  \n",
       "5162445666          NaN  \n",
       "\n",
       "[456 rows x 267 columns]"
      ],
      "text/html": "<div>\n<style scoped>\n    .dataframe tbody tr th:only-of-type {\n        vertical-align: middle;\n    }\n\n    .dataframe tbody tr th {\n        vertical-align: top;\n    }\n\n    .dataframe thead th {\n        text-align: right;\n    }\n</style>\n<table border=\"1\" class=\"dataframe\">\n  <thead>\n    <tr style=\"text-align: right;\">\n      <th></th>\n      <th>num</th>\n      <th>提交答卷时间</th>\n      <th>所用时间</th>\n      <th>nickname</th>\n      <th>userURL</th>\n      <th>userID</th>\n      <th>sex</th>\n      <th>age</th>\n      <th>Born</th>\n      <th>专业</th>\n      <th>...</th>\n      <th>高兴</th>\n      <th>低落</th>\n      <th>恐惧</th>\n      <th>是否有情绪</th>\n      <th>微博数量</th>\n      <th>userID_num</th>\n      <th>NT</th>\n      <th>NFEE</th>\n      <th>NEER</th>\n      <th>NEEE / NFER</th>\n    </tr>\n    <tr>\n      <th>userID_num</th>\n      <th></th>\n      <th></th>\n      <th></th>\n      <th></th>\n      <th></th>\n      <th></th>\n      <th></th>\n      <th></th>\n      <th></th>\n      <th></th>\n      <th></th>\n      <th></th>\n      <th></th>\n      <th></th>\n      <th></th>\n      <th></th>\n      <th></th>\n      <th></th>\n      <th></th>\n      <th></th>\n      <th></th>\n    </tr>\n  </thead>\n  <tbody>\n    <tr>\n      <th>5822697591</th>\n      <td>10</td>\n      <td>2019/10/20 16:34:17</td>\n      <td>856秒</td>\n      <td>满天小xingx</td>\n      <td>https://weibo.com/u/5822697591</td>\n      <td>u/5822697591</td>\n      <td>2</td>\n      <td>23</td>\n      <td>1996</td>\n      <td>4</td>\n      <td>...</td>\n      <td>0.749</td>\n      <td>0.097</td>\n      <td>0.018</td>\n      <td>1</td>\n      <td>549</td>\n      <td>NaN</td>\n      <td>NaN</td>\n      <td>NaN</td>\n      <td>NaN</td>\n      <td>NaN</td>\n    </tr>\n    <tr>\n      <th>5866763968</th>\n      <td>18</td>\n      <td>2019/10/20 16:42:25</td>\n      <td>883秒</td>\n      <td>不要放蘑菇</td>\n      <td>https://weibo.com/u/5866763968</td>\n      <td>u/5866763968</td>\n      <td>1</td>\n      <td>20</td>\n      <td>1999</td>\n      <td>4</td>\n      <td>...</td>\n      <td>0.583</td>\n      <td>0.000</td>\n      <td>0.250</td>\n      <td>1</td>\n      <td>12</td>\n      <td>NaN</td>\n      <td>NaN</td>\n      <td>NaN</td>\n      <td>NaN</td>\n      <td>NaN</td>\n    </tr>\n    <tr>\n      <th>5311953749</th>\n      <td>28</td>\n      <td>2019/10/20 16:49:03</td>\n      <td>1440秒</td>\n      <td>彭老师不爱留作业</td>\n      <td>https://weibo.com/u/5311953749</td>\n      <td>u/5311953749</td>\n      <td>1</td>\n      <td>24</td>\n      <td>1995</td>\n      <td>4</td>\n      <td>...</td>\n      <td>0.799</td>\n      <td>0.058</td>\n      <td>0.018</td>\n      <td>1</td>\n      <td>622</td>\n      <td>NaN</td>\n      <td>NaN</td>\n      <td>NaN</td>\n      <td>NaN</td>\n      <td>NaN</td>\n    </tr>\n    <tr>\n      <th>2366180120</th>\n      <td>31</td>\n      <td>2019/10/20 16:51:01</td>\n      <td>1024秒</td>\n      <td>cryptobiote</td>\n      <td>https://weibo.com/u/2366180120</td>\n      <td>u/2366180120</td>\n      <td>1</td>\n      <td>25</td>\n      <td>1994</td>\n      <td>1</td>\n      <td>...</td>\n      <td>0.770</td>\n      <td>0.053</td>\n      <td>0.026</td>\n      <td>1</td>\n      <td>152</td>\n      <td>NaN</td>\n      <td>NaN</td>\n      <td>NaN</td>\n      <td>NaN</td>\n      <td>NaN</td>\n    </tr>\n    <tr>\n      <th>2769435005</th>\n      <td>32</td>\n      <td>2019/10/20 16:51:13</td>\n      <td>1090秒</td>\n      <td>不是很紧</td>\n      <td>https://weibo.com/u/2769435005</td>\n      <td>u/2769435005</td>\n      <td>1</td>\n      <td>22</td>\n      <td>1997</td>\n      <td>1</td>\n      <td>...</td>\n      <td>0.329</td>\n      <td>0.268</td>\n      <td>0.122</td>\n      <td>1</td>\n      <td>82</td>\n      <td>NaN</td>\n      <td>NaN</td>\n      <td>NaN</td>\n      <td>NaN</td>\n      <td>NaN</td>\n    </tr>\n    <tr>\n      <th>...</th>\n      <td>...</td>\n      <td>...</td>\n      <td>...</td>\n      <td>...</td>\n      <td>...</td>\n      <td>...</td>\n      <td>...</td>\n      <td>...</td>\n      <td>...</td>\n      <td>...</td>\n      <td>...</td>\n      <td>...</td>\n      <td>...</td>\n      <td>...</td>\n      <td>...</td>\n      <td>...</td>\n      <td>...</td>\n      <td>...</td>\n      <td>...</td>\n      <td>...</td>\n      <td>...</td>\n    </tr>\n    <tr>\n      <th>2139304270</th>\n      <td>1450</td>\n      <td>2019/11/15 11:32:33</td>\n      <td>929秒</td>\n      <td>_怪兽回收处处长</td>\n      <td>https://weibo.com/u/2139304270</td>\n      <td>u/2139304270</td>\n      <td>1</td>\n      <td>21</td>\n      <td>1998</td>\n      <td>2</td>\n      <td>...</td>\n      <td>0.643</td>\n      <td>0.107</td>\n      <td>0.000</td>\n      <td>1</td>\n      <td>28</td>\n      <td>NaN</td>\n      <td>NaN</td>\n      <td>NaN</td>\n      <td>NaN</td>\n      <td>NaN</td>\n    </tr>\n    <tr>\n      <th>1822574395</th>\n      <td>1454</td>\n      <td>2019/11/15 11:48:23</td>\n      <td>1235秒</td>\n      <td>夷歆雯</td>\n      <td>https://weibo.com/u/1822574395</td>\n      <td>u/1822574395</td>\n      <td>2</td>\n      <td>21</td>\n      <td>1998</td>\n      <td>3</td>\n      <td>...</td>\n      <td>0.638</td>\n      <td>0.188</td>\n      <td>0.025</td>\n      <td>1</td>\n      <td>1261</td>\n      <td>NaN</td>\n      <td>NaN</td>\n      <td>NaN</td>\n      <td>NaN</td>\n      <td>NaN</td>\n    </tr>\n    <tr>\n      <th>6249948493</th>\n      <td>1461</td>\n      <td>2019/11/16 14:54:01</td>\n      <td>1002秒</td>\n      <td>·松栗奶油</td>\n      <td>https://weibo.com/u/6249948493</td>\n      <td>u/6249948493</td>\n      <td>2</td>\n      <td>20</td>\n      <td>1999</td>\n      <td>4</td>\n      <td>...</td>\n      <td>0.636</td>\n      <td>0.091</td>\n      <td>0.000</td>\n      <td>1</td>\n      <td>11</td>\n      <td>NaN</td>\n      <td>NaN</td>\n      <td>NaN</td>\n      <td>NaN</td>\n      <td>NaN</td>\n    </tr>\n    <tr>\n      <th>6069038567</th>\n      <td>1465</td>\n      <td>2019/11/17 14:58:06</td>\n      <td>1446秒</td>\n      <td>玺欢你andme</td>\n      <td>https://weibo.com/u/6069038567</td>\n      <td>u/6069038567</td>\n      <td>2</td>\n      <td>22</td>\n      <td>1997</td>\n      <td>4</td>\n      <td>...</td>\n      <td>0.646</td>\n      <td>0.020</td>\n      <td>0.000</td>\n      <td>1</td>\n      <td>147</td>\n      <td>NaN</td>\n      <td>NaN</td>\n      <td>NaN</td>\n      <td>NaN</td>\n      <td>NaN</td>\n    </tr>\n    <tr>\n      <th>5162445666</th>\n      <td>1466</td>\n      <td>2019/11/18 11:02:06</td>\n      <td>739秒</td>\n      <td>你想次炸小鸡吖</td>\n      <td>https://weibo.com/u/5162445666</td>\n      <td>u/5162445666</td>\n      <td>2</td>\n      <td>22</td>\n      <td>1997</td>\n      <td>4</td>\n      <td>...</td>\n      <td>0.704</td>\n      <td>0.106</td>\n      <td>0.014</td>\n      <td>1</td>\n      <td>425</td>\n      <td>NaN</td>\n      <td>NaN</td>\n      <td>NaN</td>\n      <td>NaN</td>\n      <td>NaN</td>\n    </tr>\n  </tbody>\n</table>\n<p>456 rows × 267 columns</p>\n</div>"
     },
     "metadata": {},
     "execution_count": 31
    }
   ],
   "source": [
    "survey_data.join(basic_features)"
   ]
  },
  {
   "cell_type": "code",
   "execution_count": null,
   "metadata": {},
   "outputs": [],
   "source": []
  }
 ]
}